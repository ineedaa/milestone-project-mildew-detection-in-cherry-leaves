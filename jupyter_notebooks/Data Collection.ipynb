{
  "cells": [
    {
      "cell_type": "markdown",
      "metadata": {
        "id": "0aStgWSO0E0E"
      },
      "source": [
        "# ** Data Collection**"
      ]
    },
    {
      "cell_type": "markdown",
      "metadata": {
        "id": "1eLEkw5O0ECa"
      },
      "source": [
        "## Objectives\n",
        "\n",
        "* Fetch data from Kaggle and save as raw data\n",
        "* Classify the data into train,test and validate data .\n",
        "\n",
        "\n",
        "## Inputs\n",
        "\n",
        "* Kaggle JSON file - the authentication token.\n",
        "* The file contains data in the form of images of the cherry leaves which are healthy and leaves that are infected with powdery mildew.\n",
        "\n",
        "## Outputs\n",
        "\n",
        "* Generate Dataset:inputs/datasets/cherry_leaves dataset \n",
        "\n",
        "##  Additional Comments\n",
        "\n",
        "* No additional comments\n",
        "\n"
      ]
    },
    {
      "cell_type": "markdown",
      "metadata": {
        "id": "9uWZXH9LwoQg"
      },
      "source": [
        "---"
      ]
    },
    {
      "cell_type": "markdown",
      "metadata": {},
      "source": [
        "## Import Packages"
      ]
    },
    {
      "cell_type": "code",
      "execution_count": 1,
      "metadata": {},
      "outputs": [
        {
          "name": "stdout",
          "output_type": "stream",
          "text": [
            "Requirement already satisfied: numpy in /workspace/.pyenv_mirror/user/current/lib/python3.11/site-packages (from -r /workspace/milestone-project-mildew-detection-in-cherry-leaves/requirements.txt (line 1)) (1.24.3)\n",
            "Requirement already satisfied: pandas in /workspace/.pyenv_mirror/user/current/lib/python3.11/site-packages (from -r /workspace/milestone-project-mildew-detection-in-cherry-leaves/requirements.txt (line 2)) (2.1.1)\n",
            "Requirement already satisfied: matplotlib in /workspace/.pyenv_mirror/user/current/lib/python3.11/site-packages (from -r /workspace/milestone-project-mildew-detection-in-cherry-leaves/requirements.txt (line 3)) (3.8.0)\n",
            "Requirement already satisfied: seaborn in /workspace/.pyenv_mirror/user/current/lib/python3.11/site-packages (from -r /workspace/milestone-project-mildew-detection-in-cherry-leaves/requirements.txt (line 4)) (0.12.2)\n",
            "Requirement already satisfied: plotly in /workspace/.pyenv_mirror/user/current/lib/python3.11/site-packages (from -r /workspace/milestone-project-mildew-detection-in-cherry-leaves/requirements.txt (line 5)) (5.17.0)\n",
            "Requirement already satisfied: streamlit==0.85.0 in /workspace/.pyenv_mirror/user/current/lib/python3.11/site-packages (from -r /workspace/milestone-project-mildew-detection-in-cherry-leaves/requirements.txt (line 7)) (0.85.0)\n",
            "Requirement already satisfied: scikit-learn in /workspace/.pyenv_mirror/user/current/lib/python3.11/site-packages (from -r /workspace/milestone-project-mildew-detection-in-cherry-leaves/requirements.txt (line 9)) (1.3.1)\n",
            "Requirement already satisfied: tensorflow-cpu in /workspace/.pyenv_mirror/user/current/lib/python3.11/site-packages (from -r /workspace/milestone-project-mildew-detection-in-cherry-leaves/requirements.txt (line 10)) (2.13.1)\n",
            "Requirement already satisfied: keras in /workspace/.pyenv_mirror/user/current/lib/python3.11/site-packages (from -r /workspace/milestone-project-mildew-detection-in-cherry-leaves/requirements.txt (line 11)) (2.13.1)\n",
            "Requirement already satisfied: protobuf in /workspace/.pyenv_mirror/user/current/lib/python3.11/site-packages (from -r /workspace/milestone-project-mildew-detection-in-cherry-leaves/requirements.txt (line 12)) (4.24.3)\n",
            "Requirement already satisfied: altair in /workspace/.pyenv_mirror/user/current/lib/python3.11/site-packages (from -r /workspace/milestone-project-mildew-detection-in-cherry-leaves/requirements.txt (line 13)) (5.1.1)\n",
            "Requirement already satisfied: astor in /workspace/.pyenv_mirror/user/current/lib/python3.11/site-packages (from streamlit==0.85.0->-r /workspace/milestone-project-mildew-detection-in-cherry-leaves/requirements.txt (line 7)) (0.8.1)\n",
            "Requirement already satisfied: attrs in /home/gitpod/.pyenv/versions/3.11.5/lib/python3.11/site-packages (from streamlit==0.85.0->-r /workspace/milestone-project-mildew-detection-in-cherry-leaves/requirements.txt (line 7)) (23.1.0)\n",
            "Requirement already satisfied: base58 in /workspace/.pyenv_mirror/user/current/lib/python3.11/site-packages (from streamlit==0.85.0->-r /workspace/milestone-project-mildew-detection-in-cherry-leaves/requirements.txt (line 7)) (2.1.1)\n",
            "Requirement already satisfied: blinker in /workspace/.pyenv_mirror/user/current/lib/python3.11/site-packages (from streamlit==0.85.0->-r /workspace/milestone-project-mildew-detection-in-cherry-leaves/requirements.txt (line 7)) (1.6.2)\n",
            "Requirement already satisfied: cachetools>=4.0 in /workspace/.pyenv_mirror/user/current/lib/python3.11/site-packages (from streamlit==0.85.0->-r /workspace/milestone-project-mildew-detection-in-cherry-leaves/requirements.txt (line 7)) (5.3.1)\n",
            "Requirement already satisfied: click<8.0,>=7.0 in /workspace/.pyenv_mirror/user/current/lib/python3.11/site-packages (from streamlit==0.85.0->-r /workspace/milestone-project-mildew-detection-in-cherry-leaves/requirements.txt (line 7)) (7.1.2)\n",
            "Requirement already satisfied: packaging in /home/gitpod/.pyenv/versions/3.11.5/lib/python3.11/site-packages (from streamlit==0.85.0->-r /workspace/milestone-project-mildew-detection-in-cherry-leaves/requirements.txt (line 7)) (23.1)\n",
            "Requirement already satisfied: pillow>=6.2.0 in /workspace/.pyenv_mirror/user/current/lib/python3.11/site-packages (from streamlit==0.85.0->-r /workspace/milestone-project-mildew-detection-in-cherry-leaves/requirements.txt (line 7)) (10.0.1)\n",
            "Requirement already satisfied: pyarrow in /workspace/.pyenv_mirror/user/current/lib/python3.11/site-packages (from streamlit==0.85.0->-r /workspace/milestone-project-mildew-detection-in-cherry-leaves/requirements.txt (line 7)) (13.0.0)\n",
            "Requirement already satisfied: pydeck>=0.1.dev5 in /workspace/.pyenv_mirror/user/current/lib/python3.11/site-packages (from streamlit==0.85.0->-r /workspace/milestone-project-mildew-detection-in-cherry-leaves/requirements.txt (line 7)) (0.8.1b0)\n",
            "Requirement already satisfied: python-dateutil in /home/gitpod/.pyenv/versions/3.11.5/lib/python3.11/site-packages (from streamlit==0.85.0->-r /workspace/milestone-project-mildew-detection-in-cherry-leaves/requirements.txt (line 7)) (2.8.2)\n",
            "Requirement already satisfied: requests in /home/gitpod/.pyenv/versions/3.11.5/lib/python3.11/site-packages (from streamlit==0.85.0->-r /workspace/milestone-project-mildew-detection-in-cherry-leaves/requirements.txt (line 7)) (2.31.0)\n",
            "Requirement already satisfied: toml in /workspace/.pyenv_mirror/user/current/lib/python3.11/site-packages (from streamlit==0.85.0->-r /workspace/milestone-project-mildew-detection-in-cherry-leaves/requirements.txt (line 7)) (0.10.2)\n",
            "Requirement already satisfied: tornado>=5.0 in /home/gitpod/.pyenv/versions/3.11.5/lib/python3.11/site-packages (from streamlit==0.85.0->-r /workspace/milestone-project-mildew-detection-in-cherry-leaves/requirements.txt (line 7)) (6.3.3)\n",
            "Requirement already satisfied: tzlocal in /workspace/.pyenv_mirror/user/current/lib/python3.11/site-packages (from streamlit==0.85.0->-r /workspace/milestone-project-mildew-detection-in-cherry-leaves/requirements.txt (line 7)) (5.0.1)\n",
            "Requirement already satisfied: validators in /workspace/.pyenv_mirror/user/current/lib/python3.11/site-packages (from streamlit==0.85.0->-r /workspace/milestone-project-mildew-detection-in-cherry-leaves/requirements.txt (line 7)) (0.22.0)\n",
            "Requirement already satisfied: gitpython in /home/gitpod/.pyenv/versions/3.11.5/lib/python3.11/site-packages (from streamlit==0.85.0->-r /workspace/milestone-project-mildew-detection-in-cherry-leaves/requirements.txt (line 7)) (3.1.36)\n",
            "Requirement already satisfied: watchdog in /workspace/.pyenv_mirror/user/current/lib/python3.11/site-packages (from streamlit==0.85.0->-r /workspace/milestone-project-mildew-detection-in-cherry-leaves/requirements.txt (line 7)) (3.0.0)\n",
            "Requirement already satisfied: pytz>=2020.1 in /workspace/.pyenv_mirror/user/current/lib/python3.11/site-packages (from pandas->-r /workspace/milestone-project-mildew-detection-in-cherry-leaves/requirements.txt (line 2)) (2023.3.post1)\n",
            "Requirement already satisfied: tzdata>=2022.1 in /workspace/.pyenv_mirror/user/current/lib/python3.11/site-packages (from pandas->-r /workspace/milestone-project-mildew-detection-in-cherry-leaves/requirements.txt (line 2)) (2023.3)\n",
            "Requirement already satisfied: contourpy>=1.0.1 in /workspace/.pyenv_mirror/user/current/lib/python3.11/site-packages (from matplotlib->-r /workspace/milestone-project-mildew-detection-in-cherry-leaves/requirements.txt (line 3)) (1.1.1)\n",
            "Requirement already satisfied: cycler>=0.10 in /workspace/.pyenv_mirror/user/current/lib/python3.11/site-packages (from matplotlib->-r /workspace/milestone-project-mildew-detection-in-cherry-leaves/requirements.txt (line 3)) (0.11.0)\n",
            "Requirement already satisfied: fonttools>=4.22.0 in /workspace/.pyenv_mirror/user/current/lib/python3.11/site-packages (from matplotlib->-r /workspace/milestone-project-mildew-detection-in-cherry-leaves/requirements.txt (line 3)) (4.42.1)\n",
            "Requirement already satisfied: kiwisolver>=1.0.1 in /workspace/.pyenv_mirror/user/current/lib/python3.11/site-packages (from matplotlib->-r /workspace/milestone-project-mildew-detection-in-cherry-leaves/requirements.txt (line 3)) (1.4.5)\n",
            "Requirement already satisfied: pyparsing>=2.3.1 in /workspace/.pyenv_mirror/user/current/lib/python3.11/site-packages (from matplotlib->-r /workspace/milestone-project-mildew-detection-in-cherry-leaves/requirements.txt (line 3)) (3.1.1)\n",
            "Requirement already satisfied: tenacity>=6.2.0 in /workspace/.pyenv_mirror/user/current/lib/python3.11/site-packages (from plotly->-r /workspace/milestone-project-mildew-detection-in-cherry-leaves/requirements.txt (line 5)) (8.2.3)\n",
            "Requirement already satisfied: scipy>=1.5.0 in /workspace/.pyenv_mirror/user/current/lib/python3.11/site-packages (from scikit-learn->-r /workspace/milestone-project-mildew-detection-in-cherry-leaves/requirements.txt (line 9)) (1.11.2)\n",
            "Requirement already satisfied: joblib>=1.1.1 in /workspace/.pyenv_mirror/user/current/lib/python3.11/site-packages (from scikit-learn->-r /workspace/milestone-project-mildew-detection-in-cherry-leaves/requirements.txt (line 9)) (1.3.2)\n",
            "Requirement already satisfied: threadpoolctl>=2.0.0 in /workspace/.pyenv_mirror/user/current/lib/python3.11/site-packages (from scikit-learn->-r /workspace/milestone-project-mildew-detection-in-cherry-leaves/requirements.txt (line 9)) (3.2.0)\n",
            "Requirement already satisfied: absl-py>=1.0.0 in /workspace/.pyenv_mirror/user/current/lib/python3.11/site-packages (from tensorflow-cpu->-r /workspace/milestone-project-mildew-detection-in-cherry-leaves/requirements.txt (line 10)) (2.0.0)\n",
            "Requirement already satisfied: astunparse>=1.6.0 in /workspace/.pyenv_mirror/user/current/lib/python3.11/site-packages (from tensorflow-cpu->-r /workspace/milestone-project-mildew-detection-in-cherry-leaves/requirements.txt (line 10)) (1.6.3)\n",
            "Requirement already satisfied: flatbuffers>=23.1.21 in /workspace/.pyenv_mirror/user/current/lib/python3.11/site-packages (from tensorflow-cpu->-r /workspace/milestone-project-mildew-detection-in-cherry-leaves/requirements.txt (line 10)) (23.5.26)\n",
            "Requirement already satisfied: gast<=0.4.0,>=0.2.1 in /workspace/.pyenv_mirror/user/current/lib/python3.11/site-packages (from tensorflow-cpu->-r /workspace/milestone-project-mildew-detection-in-cherry-leaves/requirements.txt (line 10)) (0.4.0)\n",
            "Requirement already satisfied: google-pasta>=0.1.1 in /workspace/.pyenv_mirror/user/current/lib/python3.11/site-packages (from tensorflow-cpu->-r /workspace/milestone-project-mildew-detection-in-cherry-leaves/requirements.txt (line 10)) (0.2.0)\n",
            "Requirement already satisfied: grpcio<2.0,>=1.24.3 in /workspace/.pyenv_mirror/user/current/lib/python3.11/site-packages (from tensorflow-cpu->-r /workspace/milestone-project-mildew-detection-in-cherry-leaves/requirements.txt (line 10)) (1.58.0)\n",
            "Requirement already satisfied: h5py>=2.9.0 in /workspace/.pyenv_mirror/user/current/lib/python3.11/site-packages (from tensorflow-cpu->-r /workspace/milestone-project-mildew-detection-in-cherry-leaves/requirements.txt (line 10)) (3.9.0)\n",
            "Requirement already satisfied: libclang>=13.0.0 in /workspace/.pyenv_mirror/user/current/lib/python3.11/site-packages (from tensorflow-cpu->-r /workspace/milestone-project-mildew-detection-in-cherry-leaves/requirements.txt (line 10)) (16.0.6)\n",
            "Requirement already satisfied: opt-einsum>=2.3.2 in /workspace/.pyenv_mirror/user/current/lib/python3.11/site-packages (from tensorflow-cpu->-r /workspace/milestone-project-mildew-detection-in-cherry-leaves/requirements.txt (line 10)) (3.3.0)\n",
            "Requirement already satisfied: setuptools in /home/gitpod/.pyenv/versions/3.11.5/lib/python3.11/site-packages (from tensorflow-cpu->-r /workspace/milestone-project-mildew-detection-in-cherry-leaves/requirements.txt (line 10)) (68.2.2)\n",
            "Requirement already satisfied: six>=1.12.0 in /home/gitpod/.pyenv/versions/3.11.5/lib/python3.11/site-packages (from tensorflow-cpu->-r /workspace/milestone-project-mildew-detection-in-cherry-leaves/requirements.txt (line 10)) (1.16.0)\n",
            "Requirement already satisfied: tensorboard<2.14,>=2.13 in /workspace/.pyenv_mirror/user/current/lib/python3.11/site-packages (from tensorflow-cpu->-r /workspace/milestone-project-mildew-detection-in-cherry-leaves/requirements.txt (line 10)) (2.13.0)\n",
            "Requirement already satisfied: tensorflow-estimator<2.14,>=2.13.0 in /workspace/.pyenv_mirror/user/current/lib/python3.11/site-packages (from tensorflow-cpu->-r /workspace/milestone-project-mildew-detection-in-cherry-leaves/requirements.txt (line 10)) (2.13.0)\n",
            "Requirement already satisfied: termcolor>=1.1.0 in /workspace/.pyenv_mirror/user/current/lib/python3.11/site-packages (from tensorflow-cpu->-r /workspace/milestone-project-mildew-detection-in-cherry-leaves/requirements.txt (line 10)) (2.3.0)\n",
            "Requirement already satisfied: typing-extensions<4.6.0,>=3.6.6 in /workspace/.pyenv_mirror/user/current/lib/python3.11/site-packages (from tensorflow-cpu->-r /workspace/milestone-project-mildew-detection-in-cherry-leaves/requirements.txt (line 10)) (4.5.0)\n",
            "Requirement already satisfied: wrapt>=1.11.0 in /home/gitpod/.pyenv/versions/3.11.5/lib/python3.11/site-packages (from tensorflow-cpu->-r /workspace/milestone-project-mildew-detection-in-cherry-leaves/requirements.txt (line 10)) (1.15.0)\n",
            "Requirement already satisfied: tensorflow-io-gcs-filesystem>=0.23.1 in /workspace/.pyenv_mirror/user/current/lib/python3.11/site-packages (from tensorflow-cpu->-r /workspace/milestone-project-mildew-detection-in-cherry-leaves/requirements.txt (line 10)) (0.34.0)\n",
            "Requirement already satisfied: jinja2 in /home/gitpod/.pyenv/versions/3.11.5/lib/python3.11/site-packages (from altair->-r /workspace/milestone-project-mildew-detection-in-cherry-leaves/requirements.txt (line 13)) (3.1.2)\n",
            "Requirement already satisfied: jsonschema>=3.0 in /home/gitpod/.pyenv/versions/3.11.5/lib/python3.11/site-packages (from altair->-r /workspace/milestone-project-mildew-detection-in-cherry-leaves/requirements.txt (line 13)) (4.19.0)\n",
            "Requirement already satisfied: toolz in /workspace/.pyenv_mirror/user/current/lib/python3.11/site-packages (from altair->-r /workspace/milestone-project-mildew-detection-in-cherry-leaves/requirements.txt (line 13)) (0.12.0)\n",
            "Requirement already satisfied: wheel<1.0,>=0.23.0 in /home/gitpod/.pyenv/versions/3.11.5/lib/python3.11/site-packages (from astunparse>=1.6.0->tensorflow-cpu->-r /workspace/milestone-project-mildew-detection-in-cherry-leaves/requirements.txt (line 10)) (0.41.2)\n",
            "Requirement already satisfied: jsonschema-specifications>=2023.03.6 in /home/gitpod/.pyenv/versions/3.11.5/lib/python3.11/site-packages (from jsonschema>=3.0->altair->-r /workspace/milestone-project-mildew-detection-in-cherry-leaves/requirements.txt (line 13)) (2023.7.1)\n",
            "Requirement already satisfied: referencing>=0.28.4 in /home/gitpod/.pyenv/versions/3.11.5/lib/python3.11/site-packages (from jsonschema>=3.0->altair->-r /workspace/milestone-project-mildew-detection-in-cherry-leaves/requirements.txt (line 13)) (0.30.2)\n",
            "Requirement already satisfied: rpds-py>=0.7.1 in /home/gitpod/.pyenv/versions/3.11.5/lib/python3.11/site-packages (from jsonschema>=3.0->altair->-r /workspace/milestone-project-mildew-detection-in-cherry-leaves/requirements.txt (line 13)) (0.10.3)\n",
            "Requirement already satisfied: MarkupSafe>=2.0 in /home/gitpod/.pyenv/versions/3.11.5/lib/python3.11/site-packages (from jinja2->altair->-r /workspace/milestone-project-mildew-detection-in-cherry-leaves/requirements.txt (line 13)) (2.1.3)\n",
            "Requirement already satisfied: google-auth<3,>=1.6.3 in /workspace/.pyenv_mirror/user/current/lib/python3.11/site-packages (from tensorboard<2.14,>=2.13->tensorflow-cpu->-r /workspace/milestone-project-mildew-detection-in-cherry-leaves/requirements.txt (line 10)) (2.23.0)\n",
            "Requirement already satisfied: google-auth-oauthlib<1.1,>=0.5 in /workspace/.pyenv_mirror/user/current/lib/python3.11/site-packages (from tensorboard<2.14,>=2.13->tensorflow-cpu->-r /workspace/milestone-project-mildew-detection-in-cherry-leaves/requirements.txt (line 10)) (1.0.0)\n",
            "Requirement already satisfied: markdown>=2.6.8 in /workspace/.pyenv_mirror/user/current/lib/python3.11/site-packages (from tensorboard<2.14,>=2.13->tensorflow-cpu->-r /workspace/milestone-project-mildew-detection-in-cherry-leaves/requirements.txt (line 10)) (3.4.4)\n",
            "Requirement already satisfied: tensorboard-data-server<0.8.0,>=0.7.0 in /workspace/.pyenv_mirror/user/current/lib/python3.11/site-packages (from tensorboard<2.14,>=2.13->tensorflow-cpu->-r /workspace/milestone-project-mildew-detection-in-cherry-leaves/requirements.txt (line 10)) (0.7.1)\n",
            "Requirement already satisfied: werkzeug>=1.0.1 in /workspace/.pyenv_mirror/user/current/lib/python3.11/site-packages (from tensorboard<2.14,>=2.13->tensorflow-cpu->-r /workspace/milestone-project-mildew-detection-in-cherry-leaves/requirements.txt (line 10)) (2.3.7)\n",
            "Requirement already satisfied: charset-normalizer<4,>=2 in /home/gitpod/.pyenv/versions/3.11.5/lib/python3.11/site-packages (from requests->streamlit==0.85.0->-r /workspace/milestone-project-mildew-detection-in-cherry-leaves/requirements.txt (line 7)) (3.2.0)\n",
            "Requirement already satisfied: idna<4,>=2.5 in /home/gitpod/.pyenv/versions/3.11.5/lib/python3.11/site-packages (from requests->streamlit==0.85.0->-r /workspace/milestone-project-mildew-detection-in-cherry-leaves/requirements.txt (line 7)) (3.4)\n",
            "Requirement already satisfied: urllib3<3,>=1.21.1 in /workspace/.pyenv_mirror/user/current/lib/python3.11/site-packages (from requests->streamlit==0.85.0->-r /workspace/milestone-project-mildew-detection-in-cherry-leaves/requirements.txt (line 7)) (1.26.16)\n",
            "Requirement already satisfied: certifi>=2017.4.17 in /home/gitpod/.pyenv/versions/3.11.5/lib/python3.11/site-packages (from requests->streamlit==0.85.0->-r /workspace/milestone-project-mildew-detection-in-cherry-leaves/requirements.txt (line 7)) (2023.7.22)\n",
            "Requirement already satisfied: gitdb<5,>=4.0.1 in /home/gitpod/.pyenv/versions/3.11.5/lib/python3.11/site-packages (from gitpython->streamlit==0.85.0->-r /workspace/milestone-project-mildew-detection-in-cherry-leaves/requirements.txt (line 7)) (4.0.10)\n",
            "Requirement already satisfied: smmap<6,>=3.0.1 in /home/gitpod/.pyenv/versions/3.11.5/lib/python3.11/site-packages (from gitdb<5,>=4.0.1->gitpython->streamlit==0.85.0->-r /workspace/milestone-project-mildew-detection-in-cherry-leaves/requirements.txt (line 7)) (5.0.0)\n",
            "Requirement already satisfied: pyasn1-modules>=0.2.1 in /workspace/.pyenv_mirror/user/current/lib/python3.11/site-packages (from google-auth<3,>=1.6.3->tensorboard<2.14,>=2.13->tensorflow-cpu->-r /workspace/milestone-project-mildew-detection-in-cherry-leaves/requirements.txt (line 10)) (0.3.0)\n",
            "Requirement already satisfied: rsa<5,>=3.1.4 in /workspace/.pyenv_mirror/user/current/lib/python3.11/site-packages (from google-auth<3,>=1.6.3->tensorboard<2.14,>=2.13->tensorflow-cpu->-r /workspace/milestone-project-mildew-detection-in-cherry-leaves/requirements.txt (line 10)) (4.9)\n",
            "Requirement already satisfied: requests-oauthlib>=0.7.0 in /workspace/.pyenv_mirror/user/current/lib/python3.11/site-packages (from google-auth-oauthlib<1.1,>=0.5->tensorboard<2.14,>=2.13->tensorflow-cpu->-r /workspace/milestone-project-mildew-detection-in-cherry-leaves/requirements.txt (line 10)) (1.3.1)\n",
            "Requirement already satisfied: pyasn1<0.6.0,>=0.4.6 in /workspace/.pyenv_mirror/user/current/lib/python3.11/site-packages (from pyasn1-modules>=0.2.1->google-auth<3,>=1.6.3->tensorboard<2.14,>=2.13->tensorflow-cpu->-r /workspace/milestone-project-mildew-detection-in-cherry-leaves/requirements.txt (line 10)) (0.5.0)\n",
            "Requirement already satisfied: oauthlib>=3.0.0 in /workspace/.pyenv_mirror/user/current/lib/python3.11/site-packages (from requests-oauthlib>=0.7.0->google-auth-oauthlib<1.1,>=0.5->tensorboard<2.14,>=2.13->tensorflow-cpu->-r /workspace/milestone-project-mildew-detection-in-cherry-leaves/requirements.txt (line 10)) (3.2.2)\n",
            "Note: you may need to restart the kernel to use updated packages.\n"
          ]
        }
      ],
      "source": [
        "pip install -r /workspace/milestone-project-mildew-detection-in-cherry-leaves/requirements.txt"
      ]
    },
    {
      "cell_type": "code",
      "execution_count": 2,
      "metadata": {},
      "outputs": [],
      "source": [
        "import numpy\n",
        "import os"
      ]
    },
    {
      "cell_type": "markdown",
      "metadata": {
        "id": "cqP-UeN-z3i2"
      },
      "source": [
        "# Change working directory"
      ]
    },
    {
      "cell_type": "markdown",
      "metadata": {
        "id": "aOGIGS-uz3i2"
      },
      "source": [
        "We need to change the working directory from its current folder to its parent folder\n",
        "* We access the current directory with os.getcwd()"
      ]
    },
    {
      "cell_type": "code",
      "execution_count": 3,
      "metadata": {
        "id": "wZfF_j-Bz3i4",
        "outputId": "66943449-1436-4c3d-85c7-b85f9f78349b"
      },
      "outputs": [
        {
          "data": {
            "text/plain": [
              "'/workspace/milestone-project-mildew-detection-in-cherry-leaves/jupyter_notebooks'"
            ]
          },
          "execution_count": 3,
          "metadata": {},
          "output_type": "execute_result"
        }
      ],
      "source": [
        "import os\n",
        "current_dir = os.getcwd()\n",
        "current_dir"
      ]
    },
    {
      "cell_type": "markdown",
      "metadata": {
        "id": "9MWW8E7lz3i7"
      },
      "source": [
        "We want to make the parent of the current directory the new current directory\n",
        "* os.path.dirname() gets the parent directory\n",
        "* os.chir() defines the new current directory"
      ]
    },
    {
      "cell_type": "code",
      "execution_count": 4,
      "metadata": {
        "id": "TwHsQRWjz3i9",
        "outputId": "86849db3-cd2f-4cc5-ebb8-2d0caafa1a2c"
      },
      "outputs": [
        {
          "name": "stdout",
          "output_type": "stream",
          "text": [
            "You set a new current directory\n"
          ]
        }
      ],
      "source": [
        "os.chdir(os.path.dirname(current_dir))\n",
        "print(\"You set a new current directory\")"
      ]
    },
    {
      "cell_type": "markdown",
      "metadata": {
        "id": "M_xPk_Ijz3i-"
      },
      "source": [
        "Confirm the new current directory"
      ]
    },
    {
      "cell_type": "code",
      "execution_count": 5,
      "metadata": {
        "id": "vz3S-_kjz3jA",
        "outputId": "00b79ae4-75d0-4a96-d193-ac9ef9847ea2"
      },
      "outputs": [
        {
          "data": {
            "text/plain": [
              "'/workspace/milestone-project-mildew-detection-in-cherry-leaves'"
            ]
          },
          "execution_count": 5,
          "metadata": {},
          "output_type": "execute_result"
        }
      ],
      "source": [
        "current_dir = os.getcwd()\n",
        "current_dir"
      ]
    },
    {
      "cell_type": "markdown",
      "metadata": {},
      "source": [
        "## Install Kaggle"
      ]
    },
    {
      "cell_type": "code",
      "execution_count": 6,
      "metadata": {},
      "outputs": [
        {
          "name": "stdout",
          "output_type": "stream",
          "text": [
            "Collecting kaggle\n",
            "  Downloading kaggle-1.5.16.tar.gz (83 kB)\n",
            "\u001b[2K     \u001b[90m━━━━━━━━━━━━━━━━━━━━━━━━━━━━━━━━━━━━━━━━\u001b[0m \u001b[32m83.6/83.6 kB\u001b[0m \u001b[31m4.7 MB/s\u001b[0m eta \u001b[36m0:00:00\u001b[0m\n",
            "\u001b[?25h  Preparing metadata (setup.py) ... \u001b[?25ldone\n",
            "\u001b[?25hRequirement already satisfied: six>=1.10 in /home/gitpod/.pyenv/versions/3.11.5/lib/python3.11/site-packages (from kaggle) (1.16.0)\n",
            "Requirement already satisfied: certifi in /home/gitpod/.pyenv/versions/3.11.5/lib/python3.11/site-packages (from kaggle) (2023.7.22)\n",
            "Requirement already satisfied: python-dateutil in /home/gitpod/.pyenv/versions/3.11.5/lib/python3.11/site-packages (from kaggle) (2.8.2)\n",
            "Requirement already satisfied: requests in /home/gitpod/.pyenv/versions/3.11.5/lib/python3.11/site-packages (from kaggle) (2.31.0)\n",
            "Collecting tqdm (from kaggle)\n",
            "  Obtaining dependency information for tqdm from https://files.pythonhosted.org/packages/00/e5/f12a80907d0884e6dff9c16d0c0114d81b8cd07dc3ae54c5e962cc83037e/tqdm-4.66.1-py3-none-any.whl.metadata\n",
            "  Downloading tqdm-4.66.1-py3-none-any.whl.metadata (57 kB)\n",
            "\u001b[2K     \u001b[90m━━━━━━━━━━━━━━━━━━━━━━━━━━━━━━━━━━━━━━━━\u001b[0m \u001b[32m57.6/57.6 kB\u001b[0m \u001b[31m17.2 MB/s\u001b[0m eta \u001b[36m0:00:00\u001b[0m\n",
            "\u001b[?25hCollecting python-slugify (from kaggle)\n",
            "  Downloading python_slugify-8.0.1-py2.py3-none-any.whl (9.7 kB)\n",
            "Requirement already satisfied: urllib3 in /workspace/.pyenv_mirror/user/current/lib/python3.11/site-packages (from kaggle) (1.26.16)\n",
            "Requirement already satisfied: bleach in /home/gitpod/.pyenv/versions/3.11.5/lib/python3.11/site-packages (from kaggle) (6.0.0)\n",
            "Requirement already satisfied: webencodings in /home/gitpod/.pyenv/versions/3.11.5/lib/python3.11/site-packages (from bleach->kaggle) (0.5.1)\n",
            "Collecting text-unidecode>=1.3 (from python-slugify->kaggle)\n",
            "  Downloading text_unidecode-1.3-py2.py3-none-any.whl (78 kB)\n",
            "\u001b[2K     \u001b[90m━━━━━━━━━━━━━━━━━━━━━━━━━━━━━━━━━━━━━━━━\u001b[0m \u001b[32m78.2/78.2 kB\u001b[0m \u001b[31m7.8 MB/s\u001b[0m eta \u001b[36m0:00:00\u001b[0m\n",
            "\u001b[?25hRequirement already satisfied: charset-normalizer<4,>=2 in /home/gitpod/.pyenv/versions/3.11.5/lib/python3.11/site-packages (from requests->kaggle) (3.2.0)\n",
            "Requirement already satisfied: idna<4,>=2.5 in /home/gitpod/.pyenv/versions/3.11.5/lib/python3.11/site-packages (from requests->kaggle) (3.4)\n",
            "Downloading tqdm-4.66.1-py3-none-any.whl (78 kB)\n",
            "\u001b[2K   \u001b[90m━━━━━━━━━━━━━━━━━━━━━━━━━━━━━━━━━━━━━━━━\u001b[0m \u001b[32m78.3/78.3 kB\u001b[0m \u001b[31m31.7 MB/s\u001b[0m eta \u001b[36m0:00:00\u001b[0m\n",
            "\u001b[?25hBuilding wheels for collected packages: kaggle\n",
            "  Building wheel for kaggle (setup.py) ... \u001b[?25ldone\n",
            "\u001b[?25h  Created wheel for kaggle: filename=kaggle-1.5.16-py3-none-any.whl size=110683 sha256=b36dede7ed0ffae0b52d21b602994e874e53c41e00d28374ab20ced5169bcdfd\n",
            "  Stored in directory: /workspace/.pyenv_mirror/pip_cache/wheels/6a/2b/d0/457dd27de499e9423caf738e743c4a3f82886ee6b19f89d5b7\n",
            "Successfully built kaggle\n",
            "Installing collected packages: text-unidecode, tqdm, python-slugify, kaggle\n",
            "Successfully installed kaggle-1.5.16 python-slugify-8.0.1 text-unidecode-1.3 tqdm-4.66.1\n",
            "Note: you may need to restart the kernel to use updated packages.\n"
          ]
        }
      ],
      "source": [
        "pip install kaggle\n"
      ]
    },
    {
      "cell_type": "markdown",
      "metadata": {},
      "source": [
        "Run the cell below **to change the Kaggle configuration directory to the current working directory and set permissions for the Kaggle authentication JSON**."
      ]
    },
    {
      "cell_type": "code",
      "execution_count": 8,
      "metadata": {},
      "outputs": [],
      "source": [
        "os.environ['KAGGLE_CONFIG_DIR'] = os.getcwd()\n",
        "! chmod 600 kaggle.json"
      ]
    },
    {
      "cell_type": "markdown",
      "metadata": {},
      "source": [
        "Set the Kaggle Dataset and Download data."
      ]
    },
    {
      "cell_type": "code",
      "execution_count": 9,
      "metadata": {},
      "outputs": [
        {
          "name": "stdout",
          "output_type": "stream",
          "text": [
            "Downloading cherry-leaves.zip to inputs/cherry_leaves_dataset\n",
            " 95%|███████████████████████████████████▉  | 52.0M/55.0M [00:02<00:00, 28.5MB/s]\n",
            "100%|██████████████████████████████████████| 55.0M/55.0M [00:02<00:00, 22.8MB/s]\n"
          ]
        }
      ],
      "source": [
        "KaggleDatasetPath = \"codeinstitute/cherry-leaves\"\n",
        "DestinationFolder = \"inputs/cherry_leaves_dataset\"\n",
        "! kaggle datasets download -d {KaggleDatasetPath} -p {DestinationFolder}"
      ]
    },
    {
      "cell_type": "markdown",
      "metadata": {},
      "source": [
        "# Unzip the downloaded file and delete the zip file"
      ]
    },
    {
      "cell_type": "code",
      "execution_count": 10,
      "metadata": {},
      "outputs": [],
      "source": [
        "import zipfile\n",
        "with zipfile.ZipFile(DestinationFolder + '/cherry-leaves.zip', 'r') as zip_ref:\n",
        "    zip_ref.extractall(DestinationFolder)\n",
        "\n",
        "os.remove(DestinationFolder + '/cherry-leaves.zip')"
      ]
    },
    {
      "cell_type": "markdown",
      "metadata": {
        "id": "-mavJ8DibrcQ"
      },
      "source": [
        "# Data Preparation\n",
        "\n",
        "---\n"
      ]
    },
    {
      "cell_type": "markdown",
      "metadata": {},
      "source": [
        "## Data Cleaning\n",
        "\n",
        "\n",
        "Check and remove non-image files"
      ]
    },
    {
      "cell_type": "code",
      "execution_count": 15,
      "metadata": {},
      "outputs": [],
      "source": [
        "def remove_non_image_file(my_data_dir):\n",
        "    image_extension = ('.png', '.jpg', '.jpeg')\n",
        "    folders = os.listdir(my_data_dir) \n",
        "    for folder in folders:\n",
        "        files = os.listdir(my_data_dir + '/' + folder)\n",
        "        \n",
        "            #print(files)\n",
        "        i = []\n",
        "        j = []\n",
        "        for given_file in files:\n",
        "            if not given_file.lower().endswith(image_extension):\n",
        "                file_location = my_data_dir + '/' + folder + '/' + given_file\n",
        "                os.remove(file_location) # removed non image file\n",
        "                i.append(1)\n",
        "            else:\n",
        "                j.append(1)\n",
        "                pass\n",
        "        print(f\"Folder: {folder} - has image file\",len(j))\n",
        "        print(f\"Folder: {folder} - has non-image file\",len(i))"
      ]
    },
    {
      "cell_type": "code",
      "execution_count": 16,
      "metadata": {},
      "outputs": [
        {
          "name": "stdout",
          "output_type": "stream",
          "text": [
            "Folder: healthy - has image file 2104\n",
            "Folder: healthy - has non-image file 0\n",
            "Folder: powdery_mildew - has image file 2104\n",
            "Folder: powdery_mildew - has non-image file 0\n"
          ]
        }
      ],
      "source": [
        "remove_non_image_file(my_data_dir='inputs/cherry_leaves_dataset/cherry-leaves/')\n"
      ]
    },
    {
      "cell_type": "markdown",
      "metadata": {
        "id": "ZY3l0-AxO93d"
      },
      "source": [
        "---"
      ]
    },
    {
      "cell_type": "markdown",
      "metadata": {
        "id": "uFQo3ycuO-v6"
      },
      "source": [
        "# Split train validation test set"
      ]
    },
    {
      "cell_type": "code",
      "execution_count": 17,
      "metadata": {},
      "outputs": [],
      "source": [
        "import os\n",
        "import shutil\n",
        "import random\n",
        "import joblib"
      ]
    },
    {
      "cell_type": "code",
      "execution_count": 18,
      "metadata": {},
      "outputs": [],
      "source": [
        "import os\n",
        "import shutil\n",
        "import random\n",
        "import joblib\n",
        "\n",
        "def split_train_validation_test_images(my_data_dir, train_set_ratio, validation_set_ratio, test_set_ratio):\n",
        "\n",
        "  \n",
        "  if train_set_ratio + validation_set_ratio + test_set_ratio != 1.0:\n",
        "    print(\"train_set_ratio + validation_set_ratio + test_set_ratio should sum 1.0\")\n",
        "    return\n",
        "\n",
        "  # gets classes labels\n",
        "  labels = os.listdir(my_data_dir) # it should get only the folder name\n",
        "  if 'test' in labels:\n",
        "    pass\n",
        "  else: \n",
        "    # create train, test folders with classess labels sub-folder\n",
        "    for folder in ['train','validation','test']:\n",
        "      for label in labels:\n",
        "        os.makedirs(name=my_data_dir+ '/' + folder + '/' + label)\n",
        "\n",
        "    for label in labels:\n",
        "\n",
        "      files = os.listdir(my_data_dir + '/' + label)\n",
        "      random.shuffle(files)\n",
        "\n",
        "      train_set_files_qty = int(len(files) * train_set_ratio)\n",
        "      validation_set_files_qty = int(len(files) * validation_set_ratio)\n",
        "\n",
        "      count = 1\n",
        "      for file_name in files:\n",
        "        if count <= train_set_files_qty:\n",
        "          # move given file to train set\n",
        "          shutil.move(my_data_dir + '/' + label + '/' + file_name,\n",
        "                      my_data_dir + '/train/' + label + '/' + file_name)\n",
        "          \n",
        "\n",
        "        elif count <= (train_set_files_qty + validation_set_files_qty ):\n",
        "          # move given file to validation set\n",
        "          shutil.move(my_data_dir + '/' + label + '/' + file_name,\n",
        "                      my_data_dir + '/validation/' + label + '/' + file_name)\n",
        "\n",
        "        else:\n",
        "          # move given file to test set\n",
        "          shutil.move(my_data_dir + '/' + label + '/' + file_name,\n",
        "                  my_data_dir + '/test/' +label + '/'+ file_name)\n",
        "          \n",
        "        count += 1\n",
        "\n",
        "      os.rmdir(my_data_dir + '/' + label)"
      ]
    },
    {
      "cell_type": "code",
      "execution_count": 20,
      "metadata": {},
      "outputs": [],
      "source": [
        "split_train_validation_test_images(my_data_dir = f\"inputs/cherry_leaves_dataset/cherry-leaves\",\n",
        "                        train_set_ratio = 0.7,\n",
        "                        validation_set_ratio=0.1,\n",
        "                        test_set_ratio=0.2\n",
        "                        )"
      ]
    },
    {
      "cell_type": "markdown",
      "metadata": {},
      "source": [
        "---"
      ]
    },
    {
      "cell_type": "markdown",
      "metadata": {},
      "source": [
        "---"
      ]
    },
    {
      "cell_type": "markdown",
      "metadata": {
        "id": "ltNetd085qHf"
      },
      "source": [
        "# Push files to Repo"
      ]
    },
    {
      "cell_type": "markdown",
      "metadata": {},
      "source": [
        "* git add .\n",
        "* git commit -m \"grab datasets from kaggle and split into train validation and test\"\n",
        "* git push\n"
      ]
    }
  ],
  "metadata": {
    "accelerator": "GPU",
    "colab": {
      "name": "Data Practitioner Jupyter Notebook.ipynb",
      "provenance": [],
      "toc_visible": true
    },
    "interpreter": {
      "hash": "8b8334dab9339717f727a1deaf837b322d7a41c20d15cc86be99a8e69ceec8ce"
    },
    "kernelspec": {
      "display_name": "Python 3.8.12 64-bit ('3.8.12': pyenv)",
      "name": "python3"
    },
    "language_info": {
      "codemirror_mode": {
        "name": "ipython",
        "version": 3
      },
      "file_extension": ".py",
      "mimetype": "text/x-python",
      "name": "python",
      "nbconvert_exporter": "python",
      "pygments_lexer": "ipython3",
      "version": "3.11.5"
    },
    "orig_nbformat": 2
  },
  "nbformat": 4,
  "nbformat_minor": 2
}
